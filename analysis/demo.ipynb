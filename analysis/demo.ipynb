{
 "cells": [
  {
   "cell_type": "code",
   "execution_count": null,
   "metadata": {},
   "outputs": [],
   "source": [
    "import os\n",
    "import pandas as pd\n",
    "# set pandas column width\n",
    "pd.set_option('display.max_colwidth', 200)\n",
    "\n",
    "import openvalidators\n",
    "from utils import download_data, get_runs\n",
    "import plotting \n"
   ]
  },
  {
   "attachments": {},
   "cell_type": "markdown",
   "metadata": {},
   "source": [
    "# Download the wandb Data"
   ]
  },
  {
   "cell_type": "code",
   "execution_count": null,
   "metadata": {},
   "outputs": [],
   "source": [
    "DEFAULT_FILTERS = {\"tags\": {\"$in\": [openvalidators.__version__]}}\n",
    "\n",
    "# download most recent runs from wandb\n",
    "runs = get_runs(filters=DEFAULT_FILTERS, return_paths=True)\n",
    "runs = runs[:30]\n",
    "print('\\nDownloading data for the following runs:')\n",
    "for i, run in enumerate(runs, start=1):\n",
    "    print(f'{i:>3} - {run}')\n",
    "    \n",
    "df = download_data(runs) \n",
    "\n",
    "# Print some info about the dataframe\n",
    "df.info()\n",
    "print(f'History for {len(runs)} runs contains {len(df)} records. Dataframe shape: {df.shape}')"
   ]
  },
  {
   "cell_type": "code",
   "execution_count": null,
   "metadata": {},
   "outputs": [],
   "source": [
    "# Contents of first log entry\n",
    "df.iloc[0]"
   ]
  },
  {
   "cell_type": "code",
   "execution_count": null,
   "metadata": {},
   "outputs": [],
   "source": [
    "# Get length of downloaded runs\n",
    "df.groupby('run_id').size()"
   ]
  },
  {
   "cell_type": "markdown",
   "metadata": {},
   "source": [
    "# Network Health Overview\n",
    "The plot below shows the diversity of completions produced by each UID, which is defined as the number of unique completions divided by the total number of completions. A low diversity score indicates that the miner is producing the same completions over and over again, while a high diversity score indicates that the miner is producing a wide variety of completions. Good UIDs should be in the top right corner. Color indicates average reward for that UID"
   ]
  },
  {
   "cell_type": "code",
   "execution_count": null,
   "metadata": {},
   "outputs": [],
   "source": [
    "\n",
    "plotting.plot_uid_diversty(df, remove_unsuccessful=True)"
   ]
  },
  {
   "attachments": {},
   "cell_type": "markdown",
   "metadata": {},
   "source": [
    "# Logging throughput\n",
    "The plot below shows the event logging rate"
   ]
  },
  {
   "cell_type": "code",
   "execution_count": null,
   "metadata": {},
   "outputs": [],
   "source": [
    "plotting.plot_throughput(df,n_minutes=10)"
   ]
  },
  {
   "attachments": {},
   "cell_type": "markdown",
   "metadata": {},
   "source": [
    "# Dendrite Response Success Rates\n",
    "The plots below show the success rates of the dendrite responses. The success rate is defined as the number of completions that recieve nonzero reward."
   ]
  },
  {
   "cell_type": "code",
   "execution_count": null,
   "metadata": {},
   "outputs": [],
   "source": [
    "# plots dendrite completion success rates (for answers by default), default is 20 most queried uids\n",
    "plotting.plot_dendrite_rates(df)\n"
   ]
  },
  {
   "cell_type": "code",
   "execution_count": null,
   "metadata": {},
   "outputs": [],
   "source": [
    "# plot dendrite completion rates for specific UID followups \n",
    "plotting.plot_dendrite_rates(df, uid_col='followup_uids', reward_col='followup_rewards', uids=[11,4,72,105,21,444,51,34,100,200,299])\n"
   ]
  },
  {
   "attachments": {},
   "cell_type": "markdown",
   "metadata": {},
   "source": [
    "# Analyze Completion Rates\n",
    "The plots below show the rate of popular completions produced by the network. These can help to detect spam/attacks.\n",
    "\n",
    "**Note**: Empty string responses are a result of unsuccessful completions."
   ]
  },
  {
   "cell_type": "code",
   "execution_count": null,
   "metadata": {},
   "outputs": [],
   "source": [
    "# Show rate of 10 most popular followup completions \n",
    "plotting.plot_completion_rates(df, msg_col='followup_completions', time_interval='H', ntop=10).update_layout(yaxis_type='log')"
   ]
  },
  {
   "cell_type": "code",
   "execution_count": null,
   "metadata": {},
   "outputs": [],
   "source": [
    "# same, but for answers\n",
    "plotting.plot_completion_rates(df, msg_col='answer_completions', time_interval='H', ntop=10).update_layout(yaxis_type='log')"
   ]
  },
  {
   "cell_type": "code",
   "execution_count": null,
   "metadata": {},
   "outputs": [],
   "source": [
    "# regex-based completion search\n",
    "plotting.plot_completion_rates(df, msg_col='answer_completions', time_interval='H', ntop=5, completion_regex='Beyoncé')"
   ]
  },
  {
   "attachments": {},
   "cell_type": "markdown",
   "metadata": {},
   "source": [
    "## Rewards for a Set of Completions\n",
    "The plots below show the rewards for a set of completions. This is a complement to the completion rates, as they show whether the completions are actually rewarded highly or not."
   ]
  },
  {
   "cell_type": "code",
   "execution_count": null,
   "metadata": {},
   "outputs": [],
   "source": [
    "# plot reward rates for 5 most popular followup completions\n",
    "plotting.plot_completion_rewards(df, ntop=5, msg_col='followup_completions', reward_col='followup_rewards', uid_col='followup_uids')\n"
   ]
  },
  {
   "cell_type": "code",
   "execution_count": null,
   "metadata": {},
   "outputs": [],
   "source": [
    "# same, but for answers\n",
    "plotting.plot_completion_rewards(df, ntop=5, msg_col='answer_completions', reward_col='answer_rewards', uid_col='answer_uids')\n"
   ]
  },
  {
   "attachments": {},
   "cell_type": "markdown",
   "metadata": {},
   "source": [
    "# Leaderboards\n",
    "The plots below show the leaderboard of UIDs and completions, based on various factors."
   ]
  },
  {
   "cell_type": "code",
   "execution_count": null,
   "metadata": {},
   "outputs": [],
   "source": [
    "# Get UIDs with highest average answer rewards \n",
    "plotting.plot_leaderboard(df, ntop=30)"
   ]
  },
  {
   "cell_type": "code",
   "execution_count": null,
   "metadata": {},
   "outputs": [],
   "source": [
    "# Get answer completions with highest average rewards \n",
    "plotting.plot_leaderboard(df, ntop=10, group_on='answer_completions', agg_col='answer_rewards', alias=True)"
   ]
  },
  {
   "cell_type": "code",
   "execution_count": null,
   "metadata": {},
   "outputs": [],
   "source": [
    "# Get followup completions with highest max reward \n",
    "plotting.plot_leaderboard(df, ntop=10, group_on='followup_completions', agg_col='followup_rewards', agg='max', alias=True)"
   ]
  },
  {
   "cell_type": "code",
   "execution_count": null,
   "metadata": {},
   "outputs": [],
   "source": [
    "# Get answer completions with highest frequency\n",
    "plotting.plot_leaderboard(df, ntop=5, group_on='answer_completions', agg_col='answer_rewards', agg='size', alias=True)"
   ]
  }
 ],
 "metadata": {
  "kernelspec": {
   "display_name": "Python 3",
   "language": "python",
   "name": "python3"
  },
  "language_info": {
   "codemirror_mode": {
    "name": "ipython",
    "version": 3
   },
   "file_extension": ".py",
   "mimetype": "text/x-python",
   "name": "python",
   "nbconvert_exporter": "python",
   "pygments_lexer": "ipython3",
   "version": "3.9.5"
  }
 },
 "nbformat": 4,
 "nbformat_minor": 2
}
